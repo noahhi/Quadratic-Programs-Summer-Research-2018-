{
 "cells": [
  {
   "cell_type": "markdown",
   "metadata": {},
   "source": [
    "# Computational Study of Solution Techniques for 0-1 Quadratic Programs"
   ]
  },
  {
   "cell_type": "markdown",
   "metadata": {},
   "source": [
    "import packages"
   ]
  },
  {
   "cell_type": "code",
   "execution_count": 1,
   "metadata": {},
   "outputs": [],
   "source": [
    "import pandas as pd\n",
    "import matplotlib.pyplot as plt"
   ]
  },
  {
   "cell_type": "markdown",
   "metadata": {},
   "source": [
    "read in dataframe using python's pickle "
   ]
  },
  {
   "cell_type": "code",
   "execution_count": 3,
   "metadata": {},
   "outputs": [
    {
     "name": "stdout",
     "output_type": "stream",
     "text": [
      "    solver type  symmetric  method glover_bounds  options  size  density  \\\n",
      "0    cplex  QKP       True  glover      original        0    75       50   \n",
      "1    cplex  QKP       True  glover      original        1    75       50   \n",
      "2    cplex  QKP       True  glover      original        2    75       50   \n",
      "3    cplex  QKP       True  glover      original        3    75       50   \n",
      "4    cplex  QKP       True  glover         tight        0    75       50   \n",
      "5    cplex  QKP       True  glover         tight        1    75       50   \n",
      "6    cplex  QKP       True  glover         tight        2    75       50   \n",
      "7    cplex  QKP       True  glover         tight        3    75       50   \n",
      "8   gurobi  QKP       True  glover      original        0    75       50   \n",
      "9   gurobi  QKP       True  glover      original        1    75       50   \n",
      "10  gurobi  QKP       True  glover      original        2    75       50   \n",
      "11  gurobi  QKP       True  glover      original        3    75       50   \n",
      "12  gurobi  QKP       True  glover         tight        0    75       50   \n",
      "13  gurobi  QKP       True  glover         tight        1    75       50   \n",
      "14  gurobi  QKP       True  glover         tight        2    75       50   \n",
      "15  gurobi  QKP       True  glover         tight        3    75       50   \n",
      "16   cplex  QKP       True  glover      original        0    75      100   \n",
      "17   cplex  QKP       True  glover      original        1    75      100   \n",
      "18   cplex  QKP       True  glover      original        2    75      100   \n",
      "19   cplex  QKP       True  glover      original        3    75      100   \n",
      "20   cplex  QKP       True  glover         tight        0    75      100   \n",
      "21   cplex  QKP       True  glover         tight        1    75      100   \n",
      "22   cplex  QKP       True  glover         tight        2    75      100   \n",
      "23   cplex  QKP       True  glover         tight        3    75      100   \n",
      "24  gurobi  QKP       True  glover      original        0    75      100   \n",
      "25  gurobi  QKP       True  glover      original        1    75      100   \n",
      "26  gurobi  QKP       True  glover      original        2    75      100   \n",
      "27  gurobi  QKP       True  glover      original        3    75      100   \n",
      "28  gurobi  QKP       True  glover         tight        0    75      100   \n",
      "29  gurobi  QKP       True  glover         tight        1    75      100   \n",
      "..     ...  ...        ...     ...           ...      ...   ...      ...   \n",
      "34   cplex  QKP       True  glover      original        2   100       50   \n",
      "35   cplex  QKP       True  glover      original        3   100       50   \n",
      "36   cplex  QKP       True  glover         tight        0   100       50   \n",
      "37   cplex  QKP       True  glover         tight        1   100       50   \n",
      "38   cplex  QKP       True  glover         tight        2   100       50   \n",
      "39   cplex  QKP       True  glover         tight        3   100       50   \n",
      "40  gurobi  QKP       True  glover      original        0   100       50   \n",
      "41  gurobi  QKP       True  glover      original        1   100       50   \n",
      "42  gurobi  QKP       True  glover      original        2   100       50   \n",
      "43  gurobi  QKP       True  glover      original        3   100       50   \n",
      "44  gurobi  QKP       True  glover         tight        0   100       50   \n",
      "45  gurobi  QKP       True  glover         tight        1   100       50   \n",
      "46  gurobi  QKP       True  glover         tight        2   100       50   \n",
      "47  gurobi  QKP       True  glover         tight        3   100       50   \n",
      "48   cplex  QKP       True  glover      original        0   100      100   \n",
      "49   cplex  QKP       True  glover      original        1   100      100   \n",
      "50   cplex  QKP       True  glover      original        2   100      100   \n",
      "51   cplex  QKP       True  glover      original        3   100      100   \n",
      "52   cplex  QKP       True  glover         tight        0   100      100   \n",
      "53   cplex  QKP       True  glover         tight        1   100      100   \n",
      "54   cplex  QKP       True  glover         tight        2   100      100   \n",
      "55   cplex  QKP       True  glover         tight        3   100      100   \n",
      "56  gurobi  QKP       True  glover      original        0   100      100   \n",
      "57  gurobi  QKP       True  glover      original        1   100      100   \n",
      "58  gurobi  QKP       True  glover      original        2   100      100   \n",
      "59  gurobi  QKP       True  glover      original        3   100      100   \n",
      "60  gurobi  QKP       True  glover         tight        0   100      100   \n",
      "61  gurobi  QKP       True  glover         tight        1   100      100   \n",
      "62  gurobi  QKP       True  glover         tight        2   100      100   \n",
      "63  gurobi  QKP       True  glover         tight        3   100      100   \n",
      "\n",
      "      avg_gap  avg_setup_time  avg_solve_time  avg_total_time     std_dev  \\\n",
      "0   25.773276        0.117367        1.155146        1.272513    0.404074   \n",
      "1   25.773276        0.112452        1.096437        1.208889    0.350191   \n",
      "2   25.773276        0.097903        0.905575        1.003477    0.325573   \n",
      "3   25.773276        0.096421        0.878664        0.975085    0.351455   \n",
      "4   10.367839        1.224633        0.853610        2.078243    0.427290   \n",
      "5   10.367839        1.241929        0.953380        2.195309    0.418198   \n",
      "6   10.367839        0.701393        0.768219        1.469612    0.341559   \n",
      "7   10.367839        0.665475        0.817722        1.483196    0.403576   \n",
      "8   10.367839        1.192336        0.768304        1.960640    0.479620   \n",
      "9   10.367839        1.245359        1.027327        2.272686    0.952242   \n",
      "10  10.367839        1.147046        0.478536        1.625583    0.331485   \n",
      "11  10.367839        1.135509        0.543184        1.678693    0.463170   \n",
      "12  10.367839        1.184864        0.771352        1.956216    0.481411   \n",
      "13  10.367839        1.179467        1.005469        2.184936    0.962851   \n",
      "14  10.367839        1.118487        0.481493        1.599980    0.319448   \n",
      "15  10.367839        1.120410        0.543256        1.663666    0.473901   \n",
      "16  26.310189        0.127198        1.376470        1.503668    0.642605   \n",
      "17  26.310189        0.127153        1.820342        1.947495    0.833446   \n",
      "18  26.310189        0.112824        1.500951        1.613776    0.618915   \n",
      "19  26.310189        0.110738        1.627135        1.737872    0.758037   \n",
      "20   4.314739        1.210068        0.876273        2.086341    0.684604   \n",
      "21   4.314739        1.218973        1.021740        2.240713    0.836433   \n",
      "22   4.314739        0.683221        0.978754        1.661975    0.795826   \n",
      "23   4.314739        0.691423        0.978882        1.670305    0.744410   \n",
      "24   4.314739        1.208345        1.755461        2.963806    1.796645   \n",
      "25   4.314739        1.210154        1.254960        2.465114    0.888387   \n",
      "26   4.314739        1.180387        1.261561        2.441948    1.361428   \n",
      "27   4.314739        1.161057        0.508256        1.669313    0.318229   \n",
      "28   4.314739        1.214957        1.753982        2.968938    1.799003   \n",
      "29   4.314739        1.222549        1.238104        2.460653    0.877116   \n",
      "..        ...             ...             ...             ...         ...   \n",
      "34   9.799283        0.161863        2.093063        2.254926    2.194652   \n",
      "35   9.799283        0.169115        1.779923        1.949038    1.755454   \n",
      "36   5.839993        1.750418        1.357287        3.107704    1.315606   \n",
      "37   5.839993        1.764145        1.446244        3.210389    1.295706   \n",
      "38   5.839993        0.996374        1.582554        2.578928    1.574982   \n",
      "39   5.839993        0.982579        1.275013        2.257593    0.831493   \n",
      "40   5.839993        2.067831        2.750988        4.818819    2.899589   \n",
      "41   5.839993        2.094239        3.245843        5.340082    3.401932   \n",
      "42   5.839993        2.032153        2.078351        4.110504    2.397265   \n",
      "43   5.839993        2.056695        1.720917        3.777612    1.700121   \n",
      "44   5.839993        2.180551        2.765158        4.945709    2.937805   \n",
      "45   5.839993        2.148190        3.234563        5.382753    3.396589   \n",
      "46   5.839993        2.034528        2.045082        4.079610    2.379400   \n",
      "47   5.839993        2.047734        1.741555        3.789290    1.715042   \n",
      "48  10.524702        0.220435       56.111425       56.331860  144.281437   \n",
      "49  10.524702        0.221381       27.348094       27.569475   58.121252   \n",
      "50  10.524702        0.192057       17.655079       17.847136   34.388968   \n",
      "51  10.524702        0.189173       16.569920       16.759092   31.714428   \n",
      "52   3.256493        1.823097       10.139839       11.962936   14.514942   \n",
      "53   3.256493        1.828936       12.016548       13.845484   18.871796   \n",
      "54   3.256493        1.054703       11.864341       12.919044   25.104453   \n",
      "55   3.256493        1.037507       13.002568       14.040075   25.794017   \n",
      "56   3.256493        2.117463       27.422554       29.540017   42.677273   \n",
      "57   3.256493        2.114932       10.875604       12.990536   11.059363   \n",
      "58   3.256493        1.987443       25.121642       27.109085   45.953598   \n",
      "59   3.256493        2.028880        4.521983        6.550863    4.136210   \n",
      "60   3.256493        2.170461       27.374707       29.545168   42.257684   \n",
      "61   3.256493        2.178641       11.157051       13.335692   11.491661   \n",
      "62   3.256493        2.043964       26.346966       28.390930   48.953498   \n",
      "63   3.256493        2.030000        4.480253        6.510252    4.088350   \n",
      "\n",
      "    avg_obj_val  \n",
      "0       26202.2  \n",
      "1       26202.2  \n",
      "2       26202.2  \n",
      "3       26202.2  \n",
      "4       26202.2  \n",
      "5       26202.2  \n",
      "6       26202.2  \n",
      "7       26202.2  \n",
      "8       26202.2  \n",
      "9       26202.2  \n",
      "10      26202.2  \n",
      "11      26202.2  \n",
      "12      26202.2  \n",
      "13      26202.2  \n",
      "14      26202.2  \n",
      "15      26202.2  \n",
      "16      50963.6  \n",
      "17      50963.6  \n",
      "18      50963.6  \n",
      "19      50963.6  \n",
      "20      50963.6  \n",
      "21      50963.6  \n",
      "22      50963.6  \n",
      "23      50963.6  \n",
      "24      50963.6  \n",
      "25      50963.6  \n",
      "26      50963.6  \n",
      "27      50963.6  \n",
      "28      50963.6  \n",
      "29      50963.6  \n",
      "..          ...  \n",
      "34      89578.5  \n",
      "35      89578.5  \n",
      "36      89578.5  \n",
      "37      89578.5  \n",
      "38      89578.5  \n",
      "39      89578.5  \n",
      "40      89578.5  \n",
      "41      89578.5  \n",
      "42      89578.5  \n",
      "43      89578.5  \n",
      "44      89578.5  \n",
      "45      89578.5  \n",
      "46      89578.5  \n",
      "47      89578.5  \n",
      "48     176529.6  \n",
      "49     176529.6  \n",
      "50     176529.6  \n",
      "51     176529.6  \n",
      "52     176529.6  \n",
      "53     176529.6  \n",
      "54     176529.6  \n",
      "55     176529.6  \n",
      "56     176529.6  \n",
      "57     176529.6  \n",
      "58     176529.6  \n",
      "59     176529.6  \n",
      "60     176529.6  \n",
      "61     176529.6  \n",
      "62     176529.6  \n",
      "63     176529.6  \n",
      "\n",
      "[64 rows x 14 columns]\n"
     ]
    }
   ],
   "source": [
    "df = pd.read_pickle(\"dataframe.pkl\")\n",
    "print(df)"
   ]
  },
  {
   "cell_type": "markdown",
   "metadata": {},
   "source": [
    "get rows corresponding to original glovers bounds and tight glovers bounds "
   ]
  },
  {
   "cell_type": "code",
   "execution_count": 4,
   "metadata": {},
   "outputs": [],
   "source": [
    "org_bounds = df[df[\"glover_bounds\"]==\"original\"]\n",
    "tight_bounds = df[df[\"glover_bounds\"]==\"tight\"]"
   ]
  },
  {
   "cell_type": "markdown",
   "metadata": {},
   "source": [
    "get avg solve times assossiated with each row and sort the resulting pandas Series's"
   ]
  },
  {
   "cell_type": "code",
   "execution_count": 5,
   "metadata": {},
   "outputs": [],
   "source": [
    "org_bounds_times = org_bounds[\"avg_total_time\"]\n",
    "sorted_org = org_bounds_times.sort_values()\n",
    "tight_bounds_times = tight_bounds[\"avg_solve_time\"]\n",
    "sorted_tight = tight_bounds_times.sort_values()"
   ]
  },
  {
   "cell_type": "markdown",
   "metadata": {},
   "source": [
    "plot the times for each set of bounds, in ascending order"
   ]
  },
  {
   "cell_type": "code",
   "execution_count": 6,
   "metadata": {},
   "outputs": [
    {
     "data": {
      "image/png": "[encoded data removed]",
      "text/plain": [
       "<Figure size 432x288 with 1 Axes>"
      ]
     },
     "metadata": {},
     "output_type": "display_data"
    }
   ],
   "source": [
    "plt.plot(sorted_org.values)\n",
    "plt.plot(sorted_tight.values)\n",
    "plt.show()"
   ]
  },
  {
   "cell_type": "markdown",
   "metadata": {},
   "source": [
    "blue corresponds to original bounds, orange to tight bounds. Tight bounds seem to be the way to go!"
   ]
  },
  {
   "cell_type": "code",
   "execution_count": null,
   "metadata": {},
   "outputs": [],
   "source": []
  }
 ],
 "metadata": {
  "kernelspec": {
   "display_name": "Python 3",
   "language": "python",
   "name": "python3"
  },
  "language_info": {
   "codemirror_mode": {
    "name": "ipython",
    "version": 3
   },
   "file_extension": ".py",
   "mimetype": "text/x-python",
   "name": "python",
   "nbconvert_exporter": "python",
   "pygments_lexer": "ipython3",
   "version": "3.6.5"
  }
 },
 "nbformat": 4,
 "nbformat_minor": 2
}
